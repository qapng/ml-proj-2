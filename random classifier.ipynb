{
 "cells": [
  {
   "cell_type": "code",
   "execution_count": 28,
   "metadata": {},
   "outputs": [],
   "source": [
    "import pandas as pd\n",
    "import random\n",
    "\n",
    "val_list = ['negative', 'positive', 'neutral']\n",
    "test_data = pd.read_csv(\"Test.csv\", sep=',')\n",
    "\n",
    "test_data[\"sentiment\"] = ''\n",
    "\n",
    "test_data = test_data.reset_index()  # make sure indexes pair with number of rows\n",
    "for index, row in test_data.iterrows():\n",
    "    test_data.at[index,'sentiment'] = val_list[random.randint(0,2)]\n",
    "\n",
    "(test_data.drop(['text','index'], axis=1)).to_csv('randommodel.csv', index=False)"
   ]
  }
 ],
 "metadata": {
  "interpreter": {
   "hash": "447fbe3803a1e5da9818dba51e35bc9e19d5aad10b584a5baf76caa68c0e298b"
  },
  "kernelspec": {
   "display_name": "Python 3.9.7 ('base')",
   "language": "python",
   "name": "python3"
  },
  "language_info": {
   "codemirror_mode": {
    "name": "ipython",
    "version": 3
   },
   "file_extension": ".py",
   "mimetype": "text/x-python",
   "name": "python",
   "nbconvert_exporter": "python",
   "pygments_lexer": "ipython3",
   "version": "3.9.7"
  },
  "orig_nbformat": 4
 },
 "nbformat": 4,
 "nbformat_minor": 2
}
