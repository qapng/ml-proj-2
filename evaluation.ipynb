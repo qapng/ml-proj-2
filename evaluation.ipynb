{
 "cells": [
  {
   "cell_type": "code",
   "execution_count": 2,
   "metadata": {},
   "outputs": [],
   "source": [
    "import pandas as pd"
   ]
  },
  {
   "cell_type": "markdown",
   "metadata": {},
   "source": [
    "BNB"
   ]
  },
  {
   "cell_type": "code",
   "execution_count": 3,
   "metadata": {},
   "outputs": [
    {
     "name": "stdout",
     "output_type": "stream",
     "text": [
      "neutral     5312\n",
      "positive     648\n",
      "negative     139\n",
      "Name: sentiment, dtype: int64\n"
     ]
    }
   ],
   "source": [
    "pred1 = pd.read_csv(\"bnbmodel.csv\", sep=',')\n",
    "print(pred1[\"sentiment\"].value_counts())"
   ]
  },
  {
   "cell_type": "markdown",
   "metadata": {},
   "source": [
    "SVM"
   ]
  },
  {
   "cell_type": "code",
   "execution_count": 4,
   "metadata": {},
   "outputs": [
    {
     "name": "stdout",
     "output_type": "stream",
     "text": [
      "neutral     4154\n",
      "positive    1076\n",
      "negative     869\n",
      "Name: sentiment, dtype: int64\n"
     ]
    }
   ],
   "source": [
    "pred1 = pd.read_csv(\"svmmodel.csv\", sep=',')\n",
    "print(pred1[\"sentiment\"].value_counts())"
   ]
  },
  {
   "cell_type": "markdown",
   "metadata": {},
   "source": [
    "RFM"
   ]
  },
  {
   "cell_type": "code",
   "execution_count": 5,
   "metadata": {},
   "outputs": [
    {
     "name": "stdout",
     "output_type": "stream",
     "text": [
      "neutral     5126\n",
      "positive     674\n",
      "negative     299\n",
      "Name: sentiment, dtype: int64\n"
     ]
    }
   ],
   "source": [
    "pred1 = pd.read_csv(\"rfmodel.csv\", sep=',')\n",
    "print(pred1[\"sentiment\"].value_counts())"
   ]
  }
 ],
 "metadata": {
  "interpreter": {
   "hash": "53e9a19ab941e21e5c972817f8c0091117cd3257ad200306afce424f6dc6dd7a"
  },
  "kernelspec": {
   "display_name": "Python 3.9.7 ('base')",
   "language": "python",
   "name": "python3"
  },
  "language_info": {
   "codemirror_mode": {
    "name": "ipython",
    "version": 3
   },
   "file_extension": ".py",
   "mimetype": "text/x-python",
   "name": "python",
   "nbconvert_exporter": "python",
   "pygments_lexer": "ipython3",
   "version": "3.9.7"
  },
  "orig_nbformat": 4
 },
 "nbformat": 4,
 "nbformat_minor": 2
}
