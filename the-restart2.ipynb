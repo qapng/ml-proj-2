{
 "cells": [
  {
   "cell_type": "code",
   "execution_count": 78,
   "metadata": {},
   "outputs": [],
   "source": [
    "import pandas as pd\n",
    "tweets_df=pd.read_csv('Train.csv')\n",
    "tweets_df.head()\n",
    "\n",
    "tests_tweets_def = pd.read_csv('Test.csv')"
   ]
  },
  {
   "cell_type": "code",
   "execution_count": 79,
   "metadata": {},
   "outputs": [],
   "source": [
    "X=tweets_df['text']\n",
    "y=tweets_df['sentiment']\n",
    "\n",
    "X_test=tests_tweets_def['text']"
   ]
  },
  {
   "cell_type": "code",
   "execution_count": 80,
   "metadata": {},
   "outputs": [
    {
     "name": "stderr",
     "output_type": "stream",
     "text": [
      "[nltk_data] Downloading package stopwords to\n",
      "[nltk_data]     C:\\Users\\Quang\\AppData\\Roaming\\nltk_data...\n",
      "[nltk_data]   Package stopwords is already up-to-date!\n"
     ]
    }
   ],
   "source": [
    "import nltk\n",
    "from nltk.corpus import stopwords\n",
    "nltk.download('stopwords')\n",
    "from nltk.stem import PorterStemmer"
   ]
  },
  {
   "cell_type": "code",
   "execution_count": 81,
   "metadata": {},
   "outputs": [],
   "source": [
    "stop_words=stopwords.words('english')\n",
    "stemmer=PorterStemmer()"
   ]
  },
  {
   "cell_type": "code",
   "execution_count": 82,
   "metadata": {},
   "outputs": [
    {
     "name": "stdout",
     "output_type": "stream",
     "text": [
      "21802\n"
     ]
    }
   ],
   "source": [
    "import re\n",
    "cleaned_data=[]\n",
    "for i in range(len(X)):\n",
    "   tweet=re.sub('[^a-zA-Z]',' ',X.iloc[i])\n",
    "   tweet=tweet.lower().split()\n",
    "   tweet=[stemmer.stem(word) for word in tweet if (word not in stop_words)]\n",
    "   tweet=' '.join(tweet)\n",
    "   cleaned_data.append(tweet)\n",
    "print(len(cleaned_data))"
   ]
  },
  {
   "cell_type": "code",
   "execution_count": 83,
   "metadata": {},
   "outputs": [
    {
     "name": "stdout",
     "output_type": "stream",
     "text": [
      "6099\n"
     ]
    }
   ],
   "source": [
    "import re\n",
    "cleaned_test_data=[]\n",
    "for i in range(len(X_test)):\n",
    "   tweet=re.sub('[^a-zA-Z]',' ',X_test.iloc[i])\n",
    "   tweet=tweet.lower().split()\n",
    "   tweet=[stemmer.stem(word) for word in tweet if (word not in stop_words)]\n",
    "   tweet=' '.join(tweet)\n",
    "   cleaned_test_data.append(tweet)\n",
    "print(len(cleaned_test_data))"
   ]
  },
  {
   "cell_type": "code",
   "execution_count": 65,
   "metadata": {},
   "outputs": [],
   "source": [
    "from sklearn.feature_extraction.text import CountVectorizer\n",
    "cv=CountVectorizer(max_features=3000)\n",
    "X_fin=cv.fit_transform(cleaned_data).toarray()"
   ]
  },
  {
   "cell_type": "code",
   "execution_count": 66,
   "metadata": {},
   "outputs": [],
   "source": [
    "sentiment_ordering = ['negative', 'neutral', 'positive']\n",
    "y = y.apply(lambda x: sentiment_ordering.index(x))"
   ]
  },
  {
   "cell_type": "code",
   "execution_count": 67,
   "metadata": {},
   "outputs": [],
   "source": [
    "from sklearn.naive_bayes import MultinomialNB\n",
    "model=MultinomialNB()"
   ]
  },
  {
   "cell_type": "code",
   "execution_count": 68,
   "metadata": {},
   "outputs": [],
   "source": [
    "from sklearn.model_selection import train_test_split\n",
    "X_train,X_test,y_train,y_test=train_test_split(X_fin,y,test_size=0.3)"
   ]
  },
  {
   "cell_type": "code",
   "execution_count": 69,
   "metadata": {},
   "outputs": [
    {
     "name": "stdout",
     "output_type": "stream",
     "text": [
      "              precision    recall  f1-score   support\n",
      "\n",
      "           0       0.46      0.58      0.51      1048\n",
      "           1       0.72      0.60      0.66      3881\n",
      "           2       0.51      0.63      0.56      1612\n",
      "\n",
      "    accuracy                           0.61      6541\n",
      "   macro avg       0.56      0.60      0.58      6541\n",
      "weighted avg       0.63      0.61      0.61      6541\n",
      "\n"
     ]
    }
   ],
   "source": [
    "from sklearn.metrics import classification_report\n",
    "\n",
    "model.fit(X_train,y_train)\n",
    "y_pred=model.predict(X_test)\n",
    "cf=classification_report(y_test,y_pred)\n",
    "print(cf)"
   ]
  },
  {
   "cell_type": "code",
   "execution_count": 70,
   "metadata": {},
   "outputs": [
    {
     "name": "stdout",
     "output_type": "stream",
     "text": [
      "              precision    recall  f1-score   support\n",
      "\n",
      "           0       0.55      0.25      0.35      1048\n",
      "           1       0.67      0.84      0.75      3881\n",
      "           2       0.60      0.45      0.51      1612\n",
      "\n",
      "    accuracy                           0.65      6541\n",
      "   macro avg       0.61      0.51      0.53      6541\n",
      "weighted avg       0.63      0.65      0.62      6541\n",
      "\n"
     ]
    }
   ],
   "source": [
    "from sklearn.ensemble import RandomForestClassifier\n",
    "\n",
    "#Create a Gaussian Classifier\n",
    "clf=RandomForestClassifier(n_estimators=100)\n",
    "\n",
    "#Train the model using the training sets y_pred=clf.predict(X_test)\n",
    "clf.fit(X_train,y_train)\n",
    "\n",
    "# prediction on test set\n",
    "y_pred=clf.predict(X_test)\n",
    "cf=classification_report(y_test,y_pred)\n",
    "print(cf)"
   ]
  }
 ],
 "metadata": {
  "interpreter": {
   "hash": "447fbe3803a1e5da9818dba51e35bc9e19d5aad10b584a5baf76caa68c0e298b"
  },
  "kernelspec": {
   "display_name": "Python 3.9.7 ('base')",
   "language": "python",
   "name": "python3"
  },
  "language_info": {
   "codemirror_mode": {
    "name": "ipython",
    "version": 3
   },
   "file_extension": ".py",
   "mimetype": "text/x-python",
   "name": "python",
   "nbconvert_exporter": "python",
   "pygments_lexer": "ipython3",
   "version": "3.9.7"
  },
  "orig_nbformat": 4
 },
 "nbformat": 4,
 "nbformat_minor": 2
}
